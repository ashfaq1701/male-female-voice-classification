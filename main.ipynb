{
 "cells": [
  {
   "cell_type": "code",
   "execution_count": 69,
   "metadata": {
    "collapsed": true,
    "ExecuteTime": {
     "end_time": "2023-06-08T00:03:51.106760Z",
     "start_time": "2023-06-08T00:03:51.104594Z"
    }
   },
   "outputs": [],
   "source": [
    "from pydub import AudioSegment\n",
    "from pydub.utils import mediainfo\n",
    "import numpy as np"
   ]
  },
  {
   "cell_type": "code",
   "execution_count": 104,
   "outputs": [],
   "source": [
    "SLICE_DURATION = 0.1\n",
    "SAMPLING_RATE = 16000"
   ],
   "metadata": {
    "collapsed": false,
    "ExecuteTime": {
     "end_time": "2023-06-08T01:12:00.860855Z",
     "start_time": "2023-06-08T01:12:00.854465Z"
    }
   }
  },
  {
   "cell_type": "code",
   "execution_count": 105,
   "outputs": [],
   "source": [
    "def get_sliced_audio_samples(path, slice_duration):\n",
    "    slice_duration_ms = slice_duration * 1000\n",
    "    audio = AudioSegment.from_wav(path)\n",
    "    audio = audio.set_frame_rate(SAMPLING_RATE).set_channels(1)\n",
    "    slice_starts = np.arange(0, audio.duration_seconds - slice_duration, slice_duration, dtype=np.float32)\n",
    "    slice_starts_ms = slice_starts * 1000\n",
    "    slice_func = lambda start: audio[start:start + slice_duration_ms]\n",
    "    audio_slices = np.vectorize(slice_func)(slice_starts_ms)\n",
    "    decoder_func = lambda segment: segment.get_array_of_samples()\n",
    "    return np.array([decoder_func(audio_slice) for audio_slice in audio_slices])"
   ],
   "metadata": {
    "collapsed": false,
    "ExecuteTime": {
     "end_time": "2023-06-08T01:12:02.713446Z",
     "start_time": "2023-06-08T01:12:02.709801Z"
    }
   }
  },
  {
   "cell_type": "code",
   "execution_count": 108,
   "outputs": [
    {
     "data": {
      "text/plain": "array([[  71,   63,   43, ..., -130, -176,  -89],\n       [ 100,  436,  891, ..., -532, -611, -693],\n       [-748, -806, -838, ...,  -47,  -34,   21],\n       ...,\n       [-322, -361, -181, ..., 3228, 2362, 1643],\n       [ 934,  309,  143, ...,  489,  601,  473],\n       [ 400,  360,  365, ...,    0,    0,    0]], dtype=int16)"
     },
     "execution_count": 108,
     "metadata": {},
     "output_type": "execute_result"
    }
   ],
   "source": [
    "get_sliced_audio_samples(\"males/0.wav\", SLICE_DURATION)"
   ],
   "metadata": {
    "collapsed": false,
    "ExecuteTime": {
     "end_time": "2023-06-08T01:12:17.721228Z",
     "start_time": "2023-06-08T01:12:17.698469Z"
    }
   }
  },
  {
   "cell_type": "code",
   "execution_count": 108,
   "outputs": [],
   "source": [],
   "metadata": {
    "collapsed": false,
    "ExecuteTime": {
     "end_time": "2023-06-08T01:12:42.615285Z",
     "start_time": "2023-06-08T01:12:42.609272Z"
    }
   }
  },
  {
   "cell_type": "code",
   "execution_count": 10,
   "outputs": [],
   "source": [],
   "metadata": {
    "collapsed": false,
    "ExecuteTime": {
     "end_time": "2023-06-07T21:54:50.470724Z",
     "start_time": "2023-06-07T21:54:50.467231Z"
    }
   }
  },
  {
   "cell_type": "code",
   "execution_count": null,
   "outputs": [],
   "source": [],
   "metadata": {
    "collapsed": false
   }
  }
 ],
 "metadata": {
  "kernelspec": {
   "display_name": "Python 3",
   "language": "python",
   "name": "python3"
  },
  "language_info": {
   "codemirror_mode": {
    "name": "ipython",
    "version": 2
   },
   "file_extension": ".py",
   "mimetype": "text/x-python",
   "name": "python",
   "nbconvert_exporter": "python",
   "pygments_lexer": "ipython2",
   "version": "2.7.6"
  }
 },
 "nbformat": 4,
 "nbformat_minor": 0
}
